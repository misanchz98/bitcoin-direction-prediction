{
  "cells": [
    {
      "cell_type": "markdown",
      "metadata": {
        "id": "view-in-github",
        "colab_type": "text"
      },
      "source": [
        "<a href=\"https://colab.research.google.com/github/misanchz98/bitcoin-direction-prediction/blob/main/03_modeling/03_modeling.ipynb\" target=\"_parent\"><img src=\"https://colab.research.google.com/assets/colab-badge.svg\" alt=\"Open In Colab\"/></a>"
      ]
    },
    {
      "cell_type": "markdown",
      "source": [
        "# 📊 Modelos de Deep Learning para Series Temporales con Walk-Forward Validation\n",
        "\n",
        "En este notebook implementamos diferentes modelos de **Deep Learning** y técnicas de validación temporal con **Purged Walk-Forward Split**.  \n",
        "\n",
        "Incluye:\n",
        "- Preprocesamiento y creación de secuencias.\n",
        "- Modelos: LSTM, GRU, CNN-LSTM, Transformer y TCN.\n",
        "- Métricas personalizadas y evaluación.\n",
        "- Importancia de características.\n",
        "- Pipeline de entrenamiento y validación."
      ],
      "metadata": {
        "id": "oc3L8941w_7Q"
      },
      "id": "oc3L8941w_7Q"
    },
    {
      "cell_type": "markdown",
      "source": [
        "## 🔹 1. Librerías\n",
        "Instalamos e importamos las librerías necesarias para manipulación de datos, visualización, machine learning y deep learning.\n"
      ],
      "metadata": {
        "id": "Nr-v5-dwkiXo"
      },
      "id": "Nr-v5-dwkiXo"
    },
    {
      "cell_type": "code",
      "source": [
        "# =============================================================================\n",
        "# LIBRERIAS\n",
        "# =============================================================================\n",
        "import os\n",
        "import numpy as np\n",
        "import pandas as pd\n",
        "import matplotlib.pyplot as plt\n",
        "import seaborn as sns\n",
        "import random\n",
        "\n",
        "import warnings\n",
        "\n",
        "# Establecer el nivel de advertencias a \"ignore\" para ignorar todas las advertencias\n",
        "warnings.filterwarnings(\"ignore\")"
      ],
      "metadata": {
        "id": "PRb5hdMlxdH1"
      },
      "id": "PRb5hdMlxdH1",
      "execution_count": 3,
      "outputs": []
    },
    {
      "cell_type": "code",
      "source": [
        "# 1️⃣ Clonar el repositorio desde GitHub\n",
        "!git clone https://github.com/misanchz98/bitcoin-direction-prediction.git\n",
        "\n",
        "\n",
        "# 2️⃣ Importar librerías necesariason\n",
        "\n",
        "# 3️⃣ Ruta al archivo pipelines.py\n",
        "# Ajusta esta ruta según tu repositorio\n",
        "#pipeline_path = '/content/bitcoin-direction-prediction/03_modeling/utils/pipelines.py'\n",
        "#\n",
        "## 4️⃣ Cargar el módulo dinámicamente\n",
        "#spec = importlib.util.spec_from_file_location(\"pipelines\", pipeline_path)\n",
        "#pipelines = importlib.util.module_from_spec(spec)\n",
        "#spec.loader.exec_module(pipelines)\n",
        "#\n",
        "## 5️⃣ Asignar la función a una variable\n",
        "#run_pipeline_random_search = pipelines.run_pipeline_random_search\n",
        "#print(\"Pipeline importado correctamente. ¡Listo para usar!\")\n",
        "#"
      ],
      "metadata": {
        "id": "1N8UUl3-0poZ",
        "outputId": "b585c034-d954-4ca0-d194-301865434507",
        "colab": {
          "base_uri": "https://localhost:8080/"
        }
      },
      "id": "1N8UUl3-0poZ",
      "execution_count": 22,
      "outputs": [
        {
          "output_type": "stream",
          "name": "stdout",
          "text": [
            "shell-init: error retrieving current directory: getcwd: cannot access parent directories: No such file or directory\n",
            "fatal: could not create work tree dir 'bitcoin-direction-prediction': No such file or directory\n"
          ]
        }
      ]
    },
    {
      "cell_type": "code",
      "source": [
        "import shutil\n",
        "#shutil.rmtree('/content/utils')"
      ],
      "metadata": {
        "id": "YBuD25FiwvbF"
      },
      "id": "YBuD25FiwvbF",
      "execution_count": 11,
      "outputs": []
    },
    {
      "cell_type": "markdown",
      "source": [
        "## 🔹 2. Semillas\n",
        "Para garantizar **reproducibilidad** en los experimentos, es importante fijar las semillas de las librerías que generan números aleatorios:\n",
        "\n",
        "- `os.environ['PYTHONHASHSEED']` → controla el hash en Python.  \n",
        "- `numpy.random.seed` → asegura resultados reproducibles en operaciones de NumPy.  \n",
        "- `random.seed` → fija la semilla del generador de números aleatorios nativo de Python.  \n",
        "- `tf.random.set_seed` → fija la semilla para TensorFlow y Keras.  \n",
        "\n",
        "Esto ayuda a que los modelos se entrenen con resultados consistentes entre ejecuciones."
      ],
      "metadata": {
        "id": "gQYOA5WHk6T5"
      },
      "id": "gQYOA5WHk6T5"
    },
    {
      "cell_type": "code",
      "source": [
        "# resetting the seeds for reproducibility\n",
        "def reset_random_seeds():\n",
        "    n = 42\n",
        "    os.environ['PYTHONHASHSEED'] = str(n)\n",
        "    tf.random.set_seed(n)\n",
        "    np.random.seed(n)\n",
        "    random.seed(n)\n",
        "\n",
        "reset_random_seeds()"
      ],
      "metadata": {
        "id": "AaKg9WJRg45w"
      },
      "id": "AaKg9WJRg45w",
      "execution_count": null,
      "outputs": []
    },
    {
      "cell_type": "markdown",
      "source": [
        "## 🔹 3. Conjunto de Datos\n",
        "Importamos el conjunto de datos en nuestro entorno de trabajo. Se encuentran almacenados en un archivo CSV llamado `btc_historical_data_eda.csv`, cuya obtención se explica en el *notebook* `02_data_analysis.ipynb`."
      ],
      "metadata": {
        "id": "_zZmB5VkxQ8B"
      },
      "id": "_zZmB5VkxQ8B"
    },
    {
      "cell_type": "code",
      "source": [
        "# Importamos CSV\n",
        "url = 'https://raw.githubusercontent.com/misanchz98/bitcoin-direction-prediction/main/02_data_analysis/data/btc_historical_data_eda.csv'\n",
        "df_bitcoin = pd.read_csv(url, parse_dates=['Open time'])\n",
        "df_bitcoin"
      ],
      "metadata": {
        "id": "orqWGSQqwZJw"
      },
      "id": "orqWGSQqwZJw",
      "execution_count": null,
      "outputs": []
    },
    {
      "cell_type": "markdown",
      "source": [
        "## 🔹 4. Ajuste de Hiperparámetros\n",
        "\n",
        "\n",
        "Antes de realizar el ajuste de hiperparámetros de las redes neuronales:\n",
        "\n",
        "1. Establecemos la columna `Open time` como índice del conjunto de datos.\n",
        "2. Creamos la columna `Return`:\n",
        "\n",
        "```python\n",
        "df_bitcoin[\"Return\"] = np.log(df_bitcoin[\"Close\"] / df_bitcoin[\"Close\"].shift(1)).fillna(0)\n",
        "```\n",
        "\n",
        "  - **¿Qué significa?**\n",
        "\n",
        "    - `df_bitcoin[\"Close\"]` → Precio de cierre del Bitcoin.\n",
        "    - `df_bitcoin[\"Close\"].shift(1)` → Precio de cierre del día anterior.\n",
        "    - `df_bitcoin[\"Close\"] / df_bitcoin[\"Close\"].shift(1)` → Retorno simple diario:\n",
        "\n",
        "  - **Fórmula del retorno simple**:\n",
        "$$\n",
        "\\text{Retorno simple} = \\frac{P_t}{P_{t-1}}\n",
        "$$\n",
        "\n",
        "    - `np.log(...)` → Retorno logarítmico, que tiene varias ventajas:\n",
        "      - Es **aditivo en el tiempo**: la suma de retornos logarítmicos de varios días es igual al log del retorno total.\n",
        "      - Maneja mejor la **volatilidad** y los efectos de la **capitalización continua**.\n",
        "\n",
        "    - `.fillna(0)` → El primer día no tiene precio anterior, se rellena con 0 para evitar valores nulos.\n",
        "\n",
        "\n",
        "  - **¿Para qué se usa?** En nuestro pipeline de trading:\n",
        "\n",
        "    - `Return` no es la variable objetivo (`y`), sino información adicional.\n",
        "    - Se utiliza para calcular métricas financieras, principalmente el **Sharpe ratio**.\n",
        "    - Dependiendo de la estrategia (`longonly`, `longshort`, `shortonly`), se combina con las predicciones `y_pred` para simular **ganancias o pérdidas**.\n"
      ],
      "metadata": {
        "id": "LVVrvoMynkKZ"
      },
      "id": "LVVrvoMynkKZ"
    },
    {
      "cell_type": "code",
      "source": [
        "# Asegúrate que tu DataFrame tenga 'Target' y 'Return'\n",
        "\n",
        "# Establecemos columna 'Open time' como indice\n",
        "df_bitcoin[\"Open time\"] = pd.to_datetime(df_bitcoin[\"Open time\"])\n",
        "df_bitcoin = df_bitcoin.set_index(\"Open time\")\n",
        "\n",
        "# Creamos la columna Return\n",
        "df_bitcoin[\"Return\"] = np.log(df_bitcoin[\"Close\"] / df_bitcoin[\"Close\"].shift(1)).fillna(0)"
      ],
      "metadata": {
        "id": "ogUOxwxRrF3Z"
      },
      "id": "ogUOxwxRrF3Z",
      "execution_count": null,
      "outputs": []
    },
    {
      "cell_type": "markdown",
      "source": [
        "### Estrategia LONGONLY\n",
        "- Qué hace: Solo toma posiciones largas (compra).\n",
        "- Objetivo: Ganar cuando el precio sube.\n",
        "- Ejemplo: Compras BTC esperando que suba, y vendes más caro.\n",
        "- Ventaja: Menor riesgo que el shorting, especialmente en mercados alcistas.\n",
        "- Limitación: No se beneficia de caídas del mercado."
      ],
      "metadata": {
        "id": "pbQE5kMjL35y"
      },
      "id": "pbQE5kMjL35y"
    },
    {
      "cell_type": "code",
      "source": [
        "# Ejecutar la búsqueda - longonly\n",
        "results = run_pipeline_random_search(\n",
        "    df_bitcoin,\n",
        "    target_col=\"Target\",\n",
        "    return_col=\"Return\",\n",
        "    window_size=30,\n",
        "    horizon=1,\n",
        "    test_size=0.2,\n",
        "    strategy=\"longonly\",   # longonly | shortonly | longshort\n",
        "    scoring=\"sharpe\",      # sharpe | accuracy | f1 | ...\n",
        "    n_iter=5               # número de combinaciones a probar\n",
        ")"
      ],
      "metadata": {
        "id": "0Vbm9xvlhQTA"
      },
      "id": "0Vbm9xvlhQTA",
      "execution_count": null,
      "outputs": []
    },
    {
      "cell_type": "code",
      "source": [
        "# Obtener un modelo específico\n",
        "best_model_lstm_longonly = results.get_model_by_id(\"LSTM_comb5\")\n",
        "best_model_gru_longonly = results.get_model_by_id(\"GRU_comb4\")\n",
        "best_model_cnn_lstm_longonly = results.get_model_by_id(\"LSTM_CNN_comb1\")\n",
        "best_model_cnn_gru_longonly = results.get_model_by_id(\"GRU_CNN_comb5\")"
      ],
      "metadata": {
        "id": "jJ3Wbf-P0gSm"
      },
      "id": "jJ3Wbf-P0gSm",
      "execution_count": null,
      "outputs": []
    },
    {
      "cell_type": "markdown",
      "source": [
        "### Estrategia LONGSHORT\n",
        "- Qué hace: Puede tomar ambas posiciones, largas y cortas.\n",
        "- Objetivo: Aprovechar tanto subidas como bajadas.\n",
        "- Ejemplo: Compras BTC y vendes ETH si crees que BTC va a subir y ETH a bajar.\n",
        "- Ventaja: Más flexible, puede generar ganancias en cualquier dirección del mercado.\n",
        "- Limitación: Más compleja, requiere buena gestión de riesgo."
      ],
      "metadata": {
        "id": "Pqy1gnuNMNPm"
      },
      "id": "Pqy1gnuNMNPm"
    },
    {
      "cell_type": "code",
      "source": [
        "# Ejecutar la búsqueda - longshort\n",
        "results = run_pipeline_random_search(\n",
        "    df_bitcoin,\n",
        "    target_col=\"Target\",\n",
        "    return_col=\"Return\",\n",
        "    window_size=30,\n",
        "    horizon=1,\n",
        "    test_size=0.2,\n",
        "    strategy=\"longshort\",   # longonly | shortonly | longshort\n",
        "    scoring=\"sharpe\",      # sharpe | accuracy | f1 | ...\n",
        "    n_iter=5               # número de combinaciones a probar\n",
        ")"
      ],
      "metadata": {
        "id": "HLNUgOt7MRvP"
      },
      "id": "HLNUgOt7MRvP",
      "execution_count": null,
      "outputs": []
    },
    {
      "cell_type": "code",
      "source": [
        "# Obtener un modelo específico\n",
        "best_model_lstm_longshort = results.get_model_by_id(\"LSTM_comb5\")\n",
        "best_model_gru_longshort = results.get_model_by_id(\"GRU_comb5\")\n",
        "best_model_cnn_lstm_longshort = results.get_model_by_id(\"LSTM_CNN_comb3\")\n",
        "best_model_cnn_gru_longshort = results.get_model_by_id(\"GRU_CNN_comb5\")"
      ],
      "metadata": {
        "id": "YBHEwhwRMU6V"
      },
      "id": "YBHEwhwRMU6V",
      "execution_count": null,
      "outputs": []
    }
  ],
  "metadata": {
    "colab": {
      "provenance": [],
      "gpuType": "T4",
      "include_colab_link": true
    },
    "language_info": {
      "name": "python"
    },
    "kernelspec": {
      "name": "python3",
      "display_name": "Python 3"
    },
    "accelerator": "GPU"
  },
  "nbformat": 4,
  "nbformat_minor": 5
}