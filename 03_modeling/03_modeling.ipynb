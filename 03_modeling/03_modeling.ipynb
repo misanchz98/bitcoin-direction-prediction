{
  "cells": [
    {
      "cell_type": "markdown",
      "metadata": {
        "id": "view-in-github",
        "colab_type": "text"
      },
      "source": [
        "<a href=\"https://colab.research.google.com/github/misanchz98/bitcoin-direction-prediction/blob/main/03_modeling/03_modeling.ipynb\" target=\"_parent\"><img src=\"https://colab.research.google.com/assets/colab-badge.svg\" alt=\"Open In Colab\"/></a>"
      ]
    },
    {
      "cell_type": "markdown",
      "source": [
        "# 📊 Modelos de Deep Learning para Series Temporales con Walk-Forward Validation\n",
        "\n",
        "En este notebook implementamos diferentes modelos de **Deep Learning** y técnicas de validación temporal con **Purged Walk-Forward Split**.  \n",
        "\n",
        "Incluye:\n",
        "- Preprocesamiento y creación de secuencias.\n",
        "- Modelos: LSTM, GRU, CNN-LSTM, Transformer y TCN.\n",
        "- Métricas personalizadas y evaluación.\n",
        "- Importancia de características.\n",
        "- Pipeline de entrenamiento y validación."
      ],
      "metadata": {
        "id": "oc3L8941w_7Q"
      },
      "id": "oc3L8941w_7Q"
    },
    {
      "cell_type": "markdown",
      "source": [
        "## 🔹 1. Librerías\n",
        "Instalamos e importamos las librerías necesarias para manipulación de datos, visualización, machine learning y deep learning.\n"
      ],
      "metadata": {
        "id": "Nr-v5-dwkiXo"
      },
      "id": "Nr-v5-dwkiXo"
    },
    {
      "cell_type": "code",
      "source": [
        "# =============================================================================\n",
        "# LIBRERIAS\n",
        "# =============================================================================\n",
        "import os\n",
        "import numpy as np\n",
        "import pandas as pd\n",
        "import matplotlib.pyplot as plt\n",
        "import seaborn as sns\n",
        "import random\n",
        "import tensorflow as tf\n",
        "\n",
        "import warnings\n",
        "\n",
        "# Establecer el nivel de advertencias a \"ignore\" para ignorar todas las advertencias\n",
        "warnings.filterwarnings(\"ignore\")"
      ],
      "metadata": {
        "id": "PRb5hdMlxdH1"
      },
      "id": "PRb5hdMlxdH1",
      "execution_count": null,
      "outputs": []
    },
    {
      "cell_type": "markdown",
      "source": [
        "## 🔹 2. Módulos"
      ],
      "metadata": {
        "id": "NbacsBmq5gEw"
      },
      "id": "NbacsBmq5gEw"
    },
    {
      "cell_type": "code",
      "source": [
        "# 1️⃣ REINICIO COMPLETO - Ir al directorio raíz y limpiar todo\n",
        "import os\n",
        "import shutil\n",
        "\n",
        "# Volver al directorio raíz de Colab\n",
        "os.chdir('/content')\n",
        "\n",
        "# Eliminar CUALQUIER rastro del repositorio\n",
        "for item in os.listdir('/content'):\n",
        "    if 'bitcoin' in item.lower():\n",
        "        try:\n",
        "            if os.path.isdir(item):\n",
        "                shutil.rmtree(item)\n",
        "            else:\n",
        "                os.remove(item)\n",
        "            print(f\"Eliminado: {item}\")\n",
        "        except:\n",
        "            pass\n",
        "\n",
        "# Verificar que estamos en /content y está limpio\n",
        "print(f\"Directorio actual: {os.getcwd()}\")\n",
        "print(\"Contenido actual:\")\n",
        "!ls -la"
      ],
      "metadata": {
        "id": "1N8UUl3-0poZ"
      },
      "id": "1N8UUl3-0poZ",
      "execution_count": null,
      "outputs": []
    },
    {
      "cell_type": "code",
      "source": [
        "# 2️⃣ CLONAR FRESCO\n",
        "!git clone https://github.com/misanchz98/bitcoin-direction-prediction.git\n",
        "\n",
        "# Verificar que se clonó correctamente\n",
        "print(\"Verificando estructura:\")\n",
        "!ls -la bitcoin-direction-prediction/"
      ],
      "metadata": {
        "id": "Xt_ZRnlT3zqb"
      },
      "id": "Xt_ZRnlT3zqb",
      "execution_count": null,
      "outputs": []
    },
    {
      "cell_type": "code",
      "source": [
        "# 3️⃣ NAVEGAR CORRECTAMENTE\n",
        "import sys\n",
        "import os\n",
        "\n",
        "# Cambiar al directorio de modeling\n",
        "os.chdir('/content/bitcoin-direction-prediction/03_modeling')\n",
        "\n",
        "# Verificar que estamos en el lugar correcto\n",
        "print(f\"Directorio actual: {os.getcwd()}\")\n",
        "print(\"Contenido:\")\n",
        "!ls -la\n",
        "\n",
        "# Verificar que existe utils/\n",
        "print(\"\\nContenido de utils/:\")\n",
        "!ls -la utils/"
      ],
      "metadata": {
        "id": "Od5BKRCn34n2"
      },
      "id": "Od5BKRCn34n2",
      "execution_count": null,
      "outputs": []
    },
    {
      "cell_type": "code",
      "source": [
        "# 4️⃣ IMPORTAR CORRECTAMENTE\n",
        "import sys\n",
        "import os\n",
        "\n",
        "# Agregar el directorio actual al path\n",
        "current_dir = os.getcwd()\n",
        "if current_dir not in sys.path:\n",
        "    sys.path.insert(0, current_dir)\n",
        "\n",
        "# Importar la función\n",
        "try:\n",
        "    from utils.pipelines import run_pipeline_random_search\n",
        "    print(\"✅ ¡Importación exitosa!\")\n",
        "    print(f\"Función disponible: {run_pipeline_random_search}\")\n",
        "except Exception as e:\n",
        "    print(f\"❌ Error: {e}\")\n",
        "\n",
        "    # Plan B - Importación directa\n",
        "    import importlib.util\n",
        "\n",
        "    pipeline_path = os.path.join(current_dir, 'utils', 'pipelines.py')\n",
        "    print(f\"Intentando cargar desde: {pipeline_path}\")\n",
        "\n",
        "    if os.path.exists(pipeline_path):\n",
        "        spec = importlib.util.spec_from_file_location(\"pipelines\", pipeline_path)\n",
        "        pipelines_module = importlib.util.module_from_spec(spec)\n",
        "        spec.loader.exec_module(pipelines_module)\n",
        "        run_pipeline_random_search = pipelines_module.run_pipeline_random_search\n",
        "        print(\"✅ Plan B exitoso - función cargada!\")\n",
        "    else:\n",
        "        print(\"❌ El archivo no existe\")"
      ],
      "metadata": {
        "id": "hB2hC41638cj"
      },
      "id": "hB2hC41638cj",
      "execution_count": null,
      "outputs": []
    },
    {
      "cell_type": "markdown",
      "source": [
        "## 🔹 3. Semillas\n",
        "Para garantizar **reproducibilidad** en los experimentos, es importante fijar las semillas de las librerías que generan números aleatorios:\n",
        "\n",
        "- `os.environ['PYTHONHASHSEED']` → controla el hash en Python.  \n",
        "- `numpy.random.seed` → asegura resultados reproducibles en operaciones de NumPy.  \n",
        "- `random.seed` → fija la semilla del generador de números aleatorios nativo de Python.  \n",
        "- `tf.random.set_seed` → fija la semilla para TensorFlow y Keras.  \n",
        "\n",
        "Esto ayuda a que los modelos se entrenen con resultados consistentes entre ejecuciones."
      ],
      "metadata": {
        "id": "gQYOA5WHk6T5"
      },
      "id": "gQYOA5WHk6T5"
    },
    {
      "cell_type": "code",
      "source": [
        "def reset_random_seeds(seed=42):\n",
        "    # 1. Python built-in random\n",
        "    random.seed(seed)\n",
        "\n",
        "    # 2. NumPy random\n",
        "    np.random.seed(seed)\n",
        "\n",
        "    # 3. TensorFlow random\n",
        "    tf.random.set_seed(seed)\n",
        "\n",
        "    # 4. Hash seed para operaciones de Python\n",
        "    os.environ['PYTHONHASHSEED'] = str(seed)\n",
        "\n",
        "    # 5. Operaciones determinísticas\n",
        "    os.environ['TF_DETERMINISTIC_OPS'] = '1'\n",
        "\n",
        "    # 6. Configurar determinismo (con manejo de errores)\n",
        "    try:\n",
        "        tf.config.experimental.enable_op_determinism()\n",
        "        print(\"✅ Determinismo habilitado\")\n",
        "    except Exception as e:\n",
        "        print(f\"⚠️ enable_op_determinism no disponible: {e}\")\n",
        "\n",
        "    print(f\"✅ Seeds configuradas con valor: {seed}\")\n",
        "reset_random_seeds()"
      ],
      "metadata": {
        "id": "AaKg9WJRg45w"
      },
      "id": "AaKg9WJRg45w",
      "execution_count": null,
      "outputs": []
    },
    {
      "cell_type": "markdown",
      "source": [
        "## 🔹 4. Conjunto de Datos\n",
        "Importamos el conjunto de datos en nuestro entorno de trabajo. Se encuentran almacenados en un archivo CSV llamado `btc_historical_data_eda.csv`, cuya obtención se explica en el *notebook* `02_data_analysis.ipynb`."
      ],
      "metadata": {
        "id": "_zZmB5VkxQ8B"
      },
      "id": "_zZmB5VkxQ8B"
    },
    {
      "cell_type": "code",
      "source": [
        "# Importamos CSV\n",
        "url = 'https://raw.githubusercontent.com/misanchz98/bitcoin-direction-prediction/main/02_data_analysis/data/btc_historical_data_eda.csv'\n",
        "df_bitcoin = pd.read_csv(url, parse_dates=['Open time'])\n",
        "df_bitcoin"
      ],
      "metadata": {
        "id": "orqWGSQqwZJw"
      },
      "id": "orqWGSQqwZJw",
      "execution_count": null,
      "outputs": []
    },
    {
      "cell_type": "markdown",
      "source": [
        "## 🔹 5. Ajuste de Hiperparámetros\n",
        "\n",
        "\n",
        "Antes de realizar el ajuste de hiperparámetros de las redes neuronales:\n",
        "\n",
        "1. Establecemos la columna `Open time` como índice del conjunto de datos.\n",
        "2. Creamos la columna `Return`:\n",
        "\n",
        "```python\n",
        "df_bitcoin[\"Return\"] = np.log(df_bitcoin[\"Close\"] / df_bitcoin[\"Close\"].shift(1)).fillna(0)\n",
        "```\n",
        "\n",
        "  - **¿Qué significa?**\n",
        "\n",
        "    - `df_bitcoin[\"Close\"]` → Precio de cierre del Bitcoin.\n",
        "    - `df_bitcoin[\"Close\"].shift(1)` → Precio de cierre del día anterior.\n",
        "    - `df_bitcoin[\"Close\"] / df_bitcoin[\"Close\"].shift(1)` → Retorno simple diario:\n",
        "\n",
        "  - **Fórmula del retorno simple**:\n",
        "$$\n",
        "\\text{Retorno simple} = \\frac{P_t}{P_{t-1}}\n",
        "$$\n",
        "\n",
        "    - `np.log(...)` → Retorno logarítmico, que tiene varias ventajas:\n",
        "      - Es **aditivo en el tiempo**: la suma de retornos logarítmicos de varios días es igual al log del retorno total.\n",
        "      - Maneja mejor la **volatilidad** y los efectos de la **capitalización continua**.\n",
        "\n",
        "    - `.fillna(0)` → El primer día no tiene precio anterior, se rellena con 0 para evitar valores nulos.\n",
        "\n",
        "\n",
        "  - **¿Para qué se usa?** En nuestro pipeline de trading:\n",
        "\n",
        "    - `Return` no es la variable objetivo (`y`), sino información adicional.\n",
        "    - Se utiliza para calcular métricas financieras, principalmente el **Sharpe ratio**.\n",
        "    - Dependiendo de la estrategia (`longonly`, `longshort`, `shortonly`), se combina con las predicciones `y_pred` para simular **ganancias o pérdidas**.\n"
      ],
      "metadata": {
        "id": "LVVrvoMynkKZ"
      },
      "id": "LVVrvoMynkKZ"
    },
    {
      "cell_type": "code",
      "source": [
        "# Asegúrate que tu DataFrame tenga 'Target' y 'Return'\n",
        "\n",
        "# Establecemos columna 'Open time' como indice\n",
        "df_bitcoin[\"Open time\"] = pd.to_datetime(df_bitcoin[\"Open time\"])\n",
        "df_bitcoin = df_bitcoin.set_index(\"Open time\")\n",
        "\n",
        "# Creamos la columna Return\n",
        "df_bitcoin[\"Return\"] = np.log(df_bitcoin[\"Close\"] / df_bitcoin[\"Close\"].shift(1)).fillna(0)"
      ],
      "metadata": {
        "id": "ogUOxwxRrF3Z"
      },
      "id": "ogUOxwxRrF3Z",
      "execution_count": null,
      "outputs": []
    },
    {
      "cell_type": "markdown",
      "source": [
        "### Estrategia LONGONLY\n",
        "- Qué hace: Solo toma posiciones largas (compra).\n",
        "- Objetivo: Ganar cuando el precio sube.\n",
        "- Ejemplo: Compras BTC esperando que suba, y vendes más caro.\n",
        "- Ventaja: Menor riesgo que el shorting, especialmente en mercados alcistas.\n",
        "- Limitación: No se beneficia de caídas del mercado."
      ],
      "metadata": {
        "id": "pbQE5kMjL35y"
      },
      "id": "pbQE5kMjL35y"
    },
    {
      "cell_type": "code",
      "source": [
        "# Ejecutar la búsqueda - longonly\n",
        "results_longonly = run_pipeline_random_search(\n",
        "    df_bitcoin,\n",
        "    target_col=\"Target\",\n",
        "    return_col=\"Return\",\n",
        "    window_size=30,\n",
        "    horizon=1,\n",
        "    test_size=0.2,\n",
        "    strategy=\"longonly\",   # longonly | shortonly | longshort\n",
        "    scoring=\"sharpe\",      # sharpe | accuracy | f1 | ...\n",
        "    n_iter=5               # número de combinaciones a probar\n",
        ")"
      ],
      "metadata": {
        "id": "0Vbm9xvlhQTA",
        "outputId": "d944778f-67d9-4978-d6a3-27d98c4ca394",
        "colab": {
          "base_uri": "https://localhost:8080/",
          "height": 1000
        }
      },
      "id": "0Vbm9xvlhQTA",
      "execution_count": 102,
      "outputs": [
        {
          "output_type": "stream",
          "name": "stdout",
          "text": [
            "Configuración del experimento:\n",
            "  Estrategia: longonly\n",
            "  Métrica: sharpe\n",
            "  Iteraciones: 5\n",
            "Ejecutando Random Search con 5 combinaciones y 4 modelos...\n",
            "Estrategia de trading: longonly\n",
            "Métrica de optimización: sharpe\n",
            "\n",
            "Combinación 1/5: {'learning_rate': 0.0001, 'batch_size': 16, 'epochs': 50, 'dropout': 0.2, 'lstm_units': 32, 'cnn_filters': 16, 'kernel_size': 2}\n",
            "  Evaluando LSTM (1/20)\n",
            "    Score: 0.6640 ± 0.7118 (n_folds=3)\n",
            "  Evaluando GRU (2/20)\n",
            "    Score: 0.8118 ± 0.6763 (n_folds=3)\n",
            "  Evaluando LSTM_CNN (3/20)\n",
            "    Score: 0.7789 ± 0.1973 (n_folds=3)\n",
            "  Evaluando GRU_CNN (4/20)\n",
            "    Score: 0.6961 ± 0.9947 (n_folds=3)\n",
            "\n",
            "Combinación 2/5: {'learning_rate': 0.0001, 'batch_size': 64, 'epochs': 50, 'dropout': 0.3, 'lstm_units': 32, 'cnn_filters': 64, 'kernel_size': 3}\n",
            "  Evaluando LSTM (5/20)\n",
            "    Score: 0.6650 ± 0.9452 (n_folds=3)\n",
            "  Evaluando GRU (6/20)\n",
            "    Score: 0.7445 ± 1.1442 (n_folds=3)\n",
            "  Evaluando LSTM_CNN (7/20)\n",
            "    Score: 0.4533 ± 0.7459 (n_folds=3)\n",
            "  Evaluando GRU_CNN (8/20)\n",
            "    Score: 1.1645 ± 0.8072 (n_folds=3)\n",
            "\n",
            "Combinación 3/5: {'learning_rate': 0.0001, 'batch_size': 16, 'epochs': 20, 'dropout': 0.1, 'lstm_units': 32, 'cnn_filters': 64, 'kernel_size': 5}\n",
            "  Evaluando LSTM (9/20)\n",
            "    Score: 0.4304 ± 0.8400 (n_folds=3)\n",
            "  Evaluando GRU (10/20)\n",
            "    Score: 0.5150 ± 0.7263 (n_folds=3)\n",
            "  Evaluando LSTM_CNN (11/20)\n",
            "    Score: 1.1250 ± 0.5645 (n_folds=3)\n",
            "  Evaluando GRU_CNN (12/20)\n",
            "    Score: 0.8622 ± 0.9814 (n_folds=3)\n",
            "\n",
            "Combinación 4/5: {'learning_rate': 0.0001, 'batch_size': 64, 'epochs': 20, 'dropout': 0.3, 'lstm_units': 128, 'cnn_filters': 64, 'kernel_size': 5}\n",
            "  Evaluando LSTM (13/20)\n"
          ]
        },
        {
          "output_type": "error",
          "ename": "KeyboardInterrupt",
          "evalue": "",
          "traceback": [
            "\u001b[0;31m---------------------------------------------------------------------------\u001b[0m",
            "\u001b[0;31mKeyboardInterrupt\u001b[0m                         Traceback (most recent call last)",
            "\u001b[0;32m/tmp/ipython-input-1690562734.py\u001b[0m in \u001b[0;36m<cell line: 0>\u001b[0;34m()\u001b[0m\n\u001b[1;32m      1\u001b[0m \u001b[0;31m# Ejecutar la búsqueda - longonly\u001b[0m\u001b[0;34m\u001b[0m\u001b[0;34m\u001b[0m\u001b[0m\n\u001b[0;32m----> 2\u001b[0;31m results_longonly = run_pipeline_random_search(\n\u001b[0m\u001b[1;32m      3\u001b[0m     \u001b[0mdf_bitcoin\u001b[0m\u001b[0;34m,\u001b[0m\u001b[0;34m\u001b[0m\u001b[0;34m\u001b[0m\u001b[0m\n\u001b[1;32m      4\u001b[0m     \u001b[0mtarget_col\u001b[0m\u001b[0;34m=\u001b[0m\u001b[0;34m\"Target\"\u001b[0m\u001b[0;34m,\u001b[0m\u001b[0;34m\u001b[0m\u001b[0;34m\u001b[0m\u001b[0m\n\u001b[1;32m      5\u001b[0m     \u001b[0mreturn_col\u001b[0m\u001b[0;34m=\u001b[0m\u001b[0;34m\"Return\"\u001b[0m\u001b[0;34m,\u001b[0m\u001b[0;34m\u001b[0m\u001b[0;34m\u001b[0m\u001b[0m\n",
            "\u001b[0;32m/content/bitcoin-direction-prediction/03_modeling/utils/pipelines.py\u001b[0m in \u001b[0;36mrun_pipeline_random_search\u001b[0;34m(df, target_col, return_col, window_size, horizon, test_size, strategy, scoring, n_iter)\u001b[0m\n\u001b[1;32m     62\u001b[0m \u001b[0;34m\u001b[0m\u001b[0m\n\u001b[1;32m     63\u001b[0m     \u001b[0;31m# Ejecutar búsqueda\u001b[0m\u001b[0;34m\u001b[0m\u001b[0;34m\u001b[0m\u001b[0m\n\u001b[0;32m---> 64\u001b[0;31m     random_search.fit(\n\u001b[0m\u001b[1;32m     65\u001b[0m         \u001b[0mX\u001b[0m\u001b[0;34m=\u001b[0m\u001b[0mX_seq\u001b[0m\u001b[0;34m,\u001b[0m\u001b[0;34m\u001b[0m\u001b[0;34m\u001b[0m\u001b[0m\n\u001b[1;32m     66\u001b[0m         \u001b[0my\u001b[0m\u001b[0;34m=\u001b[0m\u001b[0my_seq\u001b[0m\u001b[0;34m,\u001b[0m\u001b[0;34m\u001b[0m\u001b[0;34m\u001b[0m\u001b[0m\n",
            "\u001b[0;32m/content/bitcoin-direction-prediction/03_modeling/utils/random_search.py\u001b[0m in \u001b[0;36mfit\u001b[0;34m(self, X, y, pred_times, eval_times, returns, model_types)\u001b[0m\n\u001b[1;32m    179\u001b[0m                         ]\n\u001b[1;32m    180\u001b[0m \u001b[0;34m\u001b[0m\u001b[0m\n\u001b[0;32m--> 181\u001b[0;31m                         model.fit(\n\u001b[0m\u001b[1;32m    182\u001b[0m                             \u001b[0mX_train_scaled\u001b[0m\u001b[0;34m,\u001b[0m \u001b[0my_train\u001b[0m\u001b[0;34m,\u001b[0m\u001b[0;34m\u001b[0m\u001b[0;34m\u001b[0m\u001b[0m\n\u001b[1;32m    183\u001b[0m                             \u001b[0mvalidation_data\u001b[0m\u001b[0;34m=\u001b[0m\u001b[0;34m(\u001b[0m\u001b[0mX_val_scaled\u001b[0m\u001b[0;34m,\u001b[0m \u001b[0my_val\u001b[0m\u001b[0;34m)\u001b[0m\u001b[0;34m,\u001b[0m\u001b[0;34m\u001b[0m\u001b[0;34m\u001b[0m\u001b[0m\n",
            "\u001b[0;32m/usr/local/lib/python3.12/dist-packages/keras/src/utils/traceback_utils.py\u001b[0m in \u001b[0;36merror_handler\u001b[0;34m(*args, **kwargs)\u001b[0m\n\u001b[1;32m    115\u001b[0m         \u001b[0mfiltered_tb\u001b[0m \u001b[0;34m=\u001b[0m \u001b[0;32mNone\u001b[0m\u001b[0;34m\u001b[0m\u001b[0;34m\u001b[0m\u001b[0m\n\u001b[1;32m    116\u001b[0m         \u001b[0;32mtry\u001b[0m\u001b[0;34m:\u001b[0m\u001b[0;34m\u001b[0m\u001b[0;34m\u001b[0m\u001b[0m\n\u001b[0;32m--> 117\u001b[0;31m             \u001b[0;32mreturn\u001b[0m \u001b[0mfn\u001b[0m\u001b[0;34m(\u001b[0m\u001b[0;34m*\u001b[0m\u001b[0margs\u001b[0m\u001b[0;34m,\u001b[0m \u001b[0;34m**\u001b[0m\u001b[0mkwargs\u001b[0m\u001b[0;34m)\u001b[0m\u001b[0;34m\u001b[0m\u001b[0;34m\u001b[0m\u001b[0m\n\u001b[0m\u001b[1;32m    118\u001b[0m         \u001b[0;32mexcept\u001b[0m \u001b[0mException\u001b[0m \u001b[0;32mas\u001b[0m \u001b[0me\u001b[0m\u001b[0;34m:\u001b[0m\u001b[0;34m\u001b[0m\u001b[0;34m\u001b[0m\u001b[0m\n\u001b[1;32m    119\u001b[0m             \u001b[0mfiltered_tb\u001b[0m \u001b[0;34m=\u001b[0m \u001b[0m_process_traceback_frames\u001b[0m\u001b[0;34m(\u001b[0m\u001b[0me\u001b[0m\u001b[0;34m.\u001b[0m\u001b[0m__traceback__\u001b[0m\u001b[0;34m)\u001b[0m\u001b[0;34m\u001b[0m\u001b[0;34m\u001b[0m\u001b[0m\n",
            "\u001b[0;32m/usr/local/lib/python3.12/dist-packages/keras/src/backend/tensorflow/trainer.py\u001b[0m in \u001b[0;36mfit\u001b[0;34m(self, x, y, batch_size, epochs, verbose, callbacks, validation_split, validation_data, shuffle, class_weight, sample_weight, initial_epoch, steps_per_epoch, validation_steps, validation_batch_size, validation_freq)\u001b[0m\n\u001b[1;32m    375\u001b[0m                 \u001b[0;32mfor\u001b[0m \u001b[0mstep\u001b[0m\u001b[0;34m,\u001b[0m \u001b[0miterator\u001b[0m \u001b[0;32min\u001b[0m \u001b[0mepoch_iterator\u001b[0m\u001b[0;34m:\u001b[0m\u001b[0;34m\u001b[0m\u001b[0;34m\u001b[0m\u001b[0m\n\u001b[1;32m    376\u001b[0m                     \u001b[0mcallbacks\u001b[0m\u001b[0;34m.\u001b[0m\u001b[0mon_train_batch_begin\u001b[0m\u001b[0;34m(\u001b[0m\u001b[0mstep\u001b[0m\u001b[0;34m)\u001b[0m\u001b[0;34m\u001b[0m\u001b[0;34m\u001b[0m\u001b[0m\n\u001b[0;32m--> 377\u001b[0;31m                     \u001b[0mlogs\u001b[0m \u001b[0;34m=\u001b[0m \u001b[0mself\u001b[0m\u001b[0;34m.\u001b[0m\u001b[0mtrain_function\u001b[0m\u001b[0;34m(\u001b[0m\u001b[0miterator\u001b[0m\u001b[0;34m)\u001b[0m\u001b[0;34m\u001b[0m\u001b[0;34m\u001b[0m\u001b[0m\n\u001b[0m\u001b[1;32m    378\u001b[0m                     \u001b[0mcallbacks\u001b[0m\u001b[0;34m.\u001b[0m\u001b[0mon_train_batch_end\u001b[0m\u001b[0;34m(\u001b[0m\u001b[0mstep\u001b[0m\u001b[0;34m,\u001b[0m \u001b[0mlogs\u001b[0m\u001b[0;34m)\u001b[0m\u001b[0;34m\u001b[0m\u001b[0;34m\u001b[0m\u001b[0m\n\u001b[1;32m    379\u001b[0m                     \u001b[0;32mif\u001b[0m \u001b[0mself\u001b[0m\u001b[0;34m.\u001b[0m\u001b[0mstop_training\u001b[0m\u001b[0;34m:\u001b[0m\u001b[0;34m\u001b[0m\u001b[0;34m\u001b[0m\u001b[0m\n",
            "\u001b[0;32m/usr/local/lib/python3.12/dist-packages/keras/src/backend/tensorflow/trainer.py\u001b[0m in \u001b[0;36mfunction\u001b[0;34m(iterator)\u001b[0m\n\u001b[1;32m    218\u001b[0m                 \u001b[0miterator\u001b[0m\u001b[0;34m,\u001b[0m \u001b[0;34m(\u001b[0m\u001b[0mtf\u001b[0m\u001b[0;34m.\u001b[0m\u001b[0mdata\u001b[0m\u001b[0;34m.\u001b[0m\u001b[0mIterator\u001b[0m\u001b[0;34m,\u001b[0m \u001b[0mtf\u001b[0m\u001b[0;34m.\u001b[0m\u001b[0mdistribute\u001b[0m\u001b[0;34m.\u001b[0m\u001b[0mDistributedIterator\u001b[0m\u001b[0;34m)\u001b[0m\u001b[0;34m\u001b[0m\u001b[0;34m\u001b[0m\u001b[0m\n\u001b[1;32m    219\u001b[0m             ):\n\u001b[0;32m--> 220\u001b[0;31m                 \u001b[0mopt_outputs\u001b[0m \u001b[0;34m=\u001b[0m \u001b[0mmulti_step_on_iterator\u001b[0m\u001b[0;34m(\u001b[0m\u001b[0miterator\u001b[0m\u001b[0;34m)\u001b[0m\u001b[0;34m\u001b[0m\u001b[0;34m\u001b[0m\u001b[0m\n\u001b[0m\u001b[1;32m    221\u001b[0m                 \u001b[0;32mif\u001b[0m \u001b[0;32mnot\u001b[0m \u001b[0mopt_outputs\u001b[0m\u001b[0;34m.\u001b[0m\u001b[0mhas_value\u001b[0m\u001b[0;34m(\u001b[0m\u001b[0;34m)\u001b[0m\u001b[0;34m:\u001b[0m\u001b[0;34m\u001b[0m\u001b[0;34m\u001b[0m\u001b[0m\n\u001b[1;32m    222\u001b[0m                     \u001b[0;32mraise\u001b[0m \u001b[0mStopIteration\u001b[0m\u001b[0;34m\u001b[0m\u001b[0;34m\u001b[0m\u001b[0m\n",
            "\u001b[0;32m/usr/local/lib/python3.12/dist-packages/tensorflow/python/util/traceback_utils.py\u001b[0m in \u001b[0;36merror_handler\u001b[0;34m(*args, **kwargs)\u001b[0m\n\u001b[1;32m    148\u001b[0m     \u001b[0mfiltered_tb\u001b[0m \u001b[0;34m=\u001b[0m \u001b[0;32mNone\u001b[0m\u001b[0;34m\u001b[0m\u001b[0;34m\u001b[0m\u001b[0m\n\u001b[1;32m    149\u001b[0m     \u001b[0;32mtry\u001b[0m\u001b[0;34m:\u001b[0m\u001b[0;34m\u001b[0m\u001b[0;34m\u001b[0m\u001b[0m\n\u001b[0;32m--> 150\u001b[0;31m       \u001b[0;32mreturn\u001b[0m \u001b[0mfn\u001b[0m\u001b[0;34m(\u001b[0m\u001b[0;34m*\u001b[0m\u001b[0margs\u001b[0m\u001b[0;34m,\u001b[0m \u001b[0;34m**\u001b[0m\u001b[0mkwargs\u001b[0m\u001b[0;34m)\u001b[0m\u001b[0;34m\u001b[0m\u001b[0;34m\u001b[0m\u001b[0m\n\u001b[0m\u001b[1;32m    151\u001b[0m     \u001b[0;32mexcept\u001b[0m \u001b[0mException\u001b[0m \u001b[0;32mas\u001b[0m \u001b[0me\u001b[0m\u001b[0;34m:\u001b[0m\u001b[0;34m\u001b[0m\u001b[0;34m\u001b[0m\u001b[0m\n\u001b[1;32m    152\u001b[0m       \u001b[0mfiltered_tb\u001b[0m \u001b[0;34m=\u001b[0m \u001b[0m_process_traceback_frames\u001b[0m\u001b[0;34m(\u001b[0m\u001b[0me\u001b[0m\u001b[0;34m.\u001b[0m\u001b[0m__traceback__\u001b[0m\u001b[0;34m)\u001b[0m\u001b[0;34m\u001b[0m\u001b[0;34m\u001b[0m\u001b[0m\n",
            "\u001b[0;32m/usr/local/lib/python3.12/dist-packages/tensorflow/python/eager/polymorphic_function/polymorphic_function.py\u001b[0m in \u001b[0;36m__call__\u001b[0;34m(self, *args, **kwds)\u001b[0m\n\u001b[1;32m    831\u001b[0m \u001b[0;34m\u001b[0m\u001b[0m\n\u001b[1;32m    832\u001b[0m       \u001b[0;32mwith\u001b[0m \u001b[0mOptionalXlaContext\u001b[0m\u001b[0;34m(\u001b[0m\u001b[0mself\u001b[0m\u001b[0;34m.\u001b[0m\u001b[0m_jit_compile\u001b[0m\u001b[0;34m)\u001b[0m\u001b[0;34m:\u001b[0m\u001b[0;34m\u001b[0m\u001b[0;34m\u001b[0m\u001b[0m\n\u001b[0;32m--> 833\u001b[0;31m         \u001b[0mresult\u001b[0m \u001b[0;34m=\u001b[0m \u001b[0mself\u001b[0m\u001b[0;34m.\u001b[0m\u001b[0m_call\u001b[0m\u001b[0;34m(\u001b[0m\u001b[0;34m*\u001b[0m\u001b[0margs\u001b[0m\u001b[0;34m,\u001b[0m \u001b[0;34m**\u001b[0m\u001b[0mkwds\u001b[0m\u001b[0;34m)\u001b[0m\u001b[0;34m\u001b[0m\u001b[0;34m\u001b[0m\u001b[0m\n\u001b[0m\u001b[1;32m    834\u001b[0m \u001b[0;34m\u001b[0m\u001b[0m\n\u001b[1;32m    835\u001b[0m       \u001b[0mnew_tracing_count\u001b[0m \u001b[0;34m=\u001b[0m \u001b[0mself\u001b[0m\u001b[0;34m.\u001b[0m\u001b[0mexperimental_get_tracing_count\u001b[0m\u001b[0;34m(\u001b[0m\u001b[0;34m)\u001b[0m\u001b[0;34m\u001b[0m\u001b[0;34m\u001b[0m\u001b[0m\n",
            "\u001b[0;32m/usr/local/lib/python3.12/dist-packages/tensorflow/python/eager/polymorphic_function/polymorphic_function.py\u001b[0m in \u001b[0;36m_call\u001b[0;34m(self, *args, **kwds)\u001b[0m\n\u001b[1;32m    876\u001b[0m       \u001b[0;31m# In this case we have not created variables on the first call. So we can\u001b[0m\u001b[0;34m\u001b[0m\u001b[0;34m\u001b[0m\u001b[0m\n\u001b[1;32m    877\u001b[0m       \u001b[0;31m# run the first trace but we should fail if variables are created.\u001b[0m\u001b[0;34m\u001b[0m\u001b[0;34m\u001b[0m\u001b[0m\n\u001b[0;32m--> 878\u001b[0;31m       results = tracing_compilation.call_function(\n\u001b[0m\u001b[1;32m    879\u001b[0m           \u001b[0margs\u001b[0m\u001b[0;34m,\u001b[0m \u001b[0mkwds\u001b[0m\u001b[0;34m,\u001b[0m \u001b[0mself\u001b[0m\u001b[0;34m.\u001b[0m\u001b[0m_variable_creation_config\u001b[0m\u001b[0;34m\u001b[0m\u001b[0;34m\u001b[0m\u001b[0m\n\u001b[1;32m    880\u001b[0m       )\n",
            "\u001b[0;32m/usr/local/lib/python3.12/dist-packages/tensorflow/python/eager/polymorphic_function/tracing_compilation.py\u001b[0m in \u001b[0;36mcall_function\u001b[0;34m(args, kwargs, tracing_options)\u001b[0m\n\u001b[1;32m    137\u001b[0m   \u001b[0mbound_args\u001b[0m \u001b[0;34m=\u001b[0m \u001b[0mfunction\u001b[0m\u001b[0;34m.\u001b[0m\u001b[0mfunction_type\u001b[0m\u001b[0;34m.\u001b[0m\u001b[0mbind\u001b[0m\u001b[0;34m(\u001b[0m\u001b[0;34m*\u001b[0m\u001b[0margs\u001b[0m\u001b[0;34m,\u001b[0m \u001b[0;34m**\u001b[0m\u001b[0mkwargs\u001b[0m\u001b[0;34m)\u001b[0m\u001b[0;34m\u001b[0m\u001b[0;34m\u001b[0m\u001b[0m\n\u001b[1;32m    138\u001b[0m   \u001b[0mflat_inputs\u001b[0m \u001b[0;34m=\u001b[0m \u001b[0mfunction\u001b[0m\u001b[0;34m.\u001b[0m\u001b[0mfunction_type\u001b[0m\u001b[0;34m.\u001b[0m\u001b[0munpack_inputs\u001b[0m\u001b[0;34m(\u001b[0m\u001b[0mbound_args\u001b[0m\u001b[0;34m)\u001b[0m\u001b[0;34m\u001b[0m\u001b[0;34m\u001b[0m\u001b[0m\n\u001b[0;32m--> 139\u001b[0;31m   return function._call_flat(  # pylint: disable=protected-access\n\u001b[0m\u001b[1;32m    140\u001b[0m       \u001b[0mflat_inputs\u001b[0m\u001b[0;34m,\u001b[0m \u001b[0mcaptured_inputs\u001b[0m\u001b[0;34m=\u001b[0m\u001b[0mfunction\u001b[0m\u001b[0;34m.\u001b[0m\u001b[0mcaptured_inputs\u001b[0m\u001b[0;34m\u001b[0m\u001b[0;34m\u001b[0m\u001b[0m\n\u001b[1;32m    141\u001b[0m   )\n",
            "\u001b[0;32m/usr/local/lib/python3.12/dist-packages/tensorflow/python/eager/polymorphic_function/concrete_function.py\u001b[0m in \u001b[0;36m_call_flat\u001b[0;34m(self, tensor_inputs, captured_inputs)\u001b[0m\n\u001b[1;32m   1320\u001b[0m         and executing_eagerly):\n\u001b[1;32m   1321\u001b[0m       \u001b[0;31m# No tape is watching; skip to running the function.\u001b[0m\u001b[0;34m\u001b[0m\u001b[0;34m\u001b[0m\u001b[0m\n\u001b[0;32m-> 1322\u001b[0;31m       \u001b[0;32mreturn\u001b[0m \u001b[0mself\u001b[0m\u001b[0;34m.\u001b[0m\u001b[0m_inference_function\u001b[0m\u001b[0;34m.\u001b[0m\u001b[0mcall_preflattened\u001b[0m\u001b[0;34m(\u001b[0m\u001b[0margs\u001b[0m\u001b[0;34m)\u001b[0m\u001b[0;34m\u001b[0m\u001b[0;34m\u001b[0m\u001b[0m\n\u001b[0m\u001b[1;32m   1323\u001b[0m     forward_backward = self._select_forward_and_backward_functions(\n\u001b[1;32m   1324\u001b[0m         \u001b[0margs\u001b[0m\u001b[0;34m,\u001b[0m\u001b[0;34m\u001b[0m\u001b[0;34m\u001b[0m\u001b[0m\n",
            "\u001b[0;32m/usr/local/lib/python3.12/dist-packages/tensorflow/python/eager/polymorphic_function/atomic_function.py\u001b[0m in \u001b[0;36mcall_preflattened\u001b[0;34m(self, args)\u001b[0m\n\u001b[1;32m    214\u001b[0m   \u001b[0;32mdef\u001b[0m \u001b[0mcall_preflattened\u001b[0m\u001b[0;34m(\u001b[0m\u001b[0mself\u001b[0m\u001b[0;34m,\u001b[0m \u001b[0margs\u001b[0m\u001b[0;34m:\u001b[0m \u001b[0mSequence\u001b[0m\u001b[0;34m[\u001b[0m\u001b[0mcore\u001b[0m\u001b[0;34m.\u001b[0m\u001b[0mTensor\u001b[0m\u001b[0;34m]\u001b[0m\u001b[0;34m)\u001b[0m \u001b[0;34m->\u001b[0m \u001b[0mAny\u001b[0m\u001b[0;34m:\u001b[0m\u001b[0;34m\u001b[0m\u001b[0;34m\u001b[0m\u001b[0m\n\u001b[1;32m    215\u001b[0m     \u001b[0;34m\"\"\"Calls with flattened tensor inputs and returns the structured output.\"\"\"\u001b[0m\u001b[0;34m\u001b[0m\u001b[0;34m\u001b[0m\u001b[0m\n\u001b[0;32m--> 216\u001b[0;31m     \u001b[0mflat_outputs\u001b[0m \u001b[0;34m=\u001b[0m \u001b[0mself\u001b[0m\u001b[0;34m.\u001b[0m\u001b[0mcall_flat\u001b[0m\u001b[0;34m(\u001b[0m\u001b[0;34m*\u001b[0m\u001b[0margs\u001b[0m\u001b[0;34m)\u001b[0m\u001b[0;34m\u001b[0m\u001b[0;34m\u001b[0m\u001b[0m\n\u001b[0m\u001b[1;32m    217\u001b[0m     \u001b[0;32mreturn\u001b[0m \u001b[0mself\u001b[0m\u001b[0;34m.\u001b[0m\u001b[0mfunction_type\u001b[0m\u001b[0;34m.\u001b[0m\u001b[0mpack_output\u001b[0m\u001b[0;34m(\u001b[0m\u001b[0mflat_outputs\u001b[0m\u001b[0;34m)\u001b[0m\u001b[0;34m\u001b[0m\u001b[0;34m\u001b[0m\u001b[0m\n\u001b[1;32m    218\u001b[0m \u001b[0;34m\u001b[0m\u001b[0m\n",
            "\u001b[0;32m/usr/local/lib/python3.12/dist-packages/tensorflow/python/eager/polymorphic_function/atomic_function.py\u001b[0m in \u001b[0;36mcall_flat\u001b[0;34m(self, *args)\u001b[0m\n\u001b[1;32m    249\u001b[0m         \u001b[0;32mwith\u001b[0m \u001b[0mrecord\u001b[0m\u001b[0;34m.\u001b[0m\u001b[0mstop_recording\u001b[0m\u001b[0;34m(\u001b[0m\u001b[0;34m)\u001b[0m\u001b[0;34m:\u001b[0m\u001b[0;34m\u001b[0m\u001b[0;34m\u001b[0m\u001b[0m\n\u001b[1;32m    250\u001b[0m           \u001b[0;32mif\u001b[0m \u001b[0mself\u001b[0m\u001b[0;34m.\u001b[0m\u001b[0m_bound_context\u001b[0m\u001b[0;34m.\u001b[0m\u001b[0mexecuting_eagerly\u001b[0m\u001b[0;34m(\u001b[0m\u001b[0;34m)\u001b[0m\u001b[0;34m:\u001b[0m\u001b[0;34m\u001b[0m\u001b[0;34m\u001b[0m\u001b[0m\n\u001b[0;32m--> 251\u001b[0;31m             outputs = self._bound_context.call_function(\n\u001b[0m\u001b[1;32m    252\u001b[0m                 \u001b[0mself\u001b[0m\u001b[0;34m.\u001b[0m\u001b[0mname\u001b[0m\u001b[0;34m,\u001b[0m\u001b[0;34m\u001b[0m\u001b[0;34m\u001b[0m\u001b[0m\n\u001b[1;32m    253\u001b[0m                 \u001b[0mlist\u001b[0m\u001b[0;34m(\u001b[0m\u001b[0margs\u001b[0m\u001b[0;34m)\u001b[0m\u001b[0;34m,\u001b[0m\u001b[0;34m\u001b[0m\u001b[0;34m\u001b[0m\u001b[0m\n",
            "\u001b[0;32m/usr/local/lib/python3.12/dist-packages/tensorflow/python/eager/context.py\u001b[0m in \u001b[0;36mcall_function\u001b[0;34m(self, name, tensor_inputs, num_outputs)\u001b[0m\n\u001b[1;32m   1686\u001b[0m     \u001b[0mcancellation_context\u001b[0m \u001b[0;34m=\u001b[0m \u001b[0mcancellation\u001b[0m\u001b[0;34m.\u001b[0m\u001b[0mcontext\u001b[0m\u001b[0;34m(\u001b[0m\u001b[0;34m)\u001b[0m\u001b[0;34m\u001b[0m\u001b[0;34m\u001b[0m\u001b[0m\n\u001b[1;32m   1687\u001b[0m     \u001b[0;32mif\u001b[0m \u001b[0mcancellation_context\u001b[0m \u001b[0;32mis\u001b[0m \u001b[0;32mNone\u001b[0m\u001b[0;34m:\u001b[0m\u001b[0;34m\u001b[0m\u001b[0;34m\u001b[0m\u001b[0m\n\u001b[0;32m-> 1688\u001b[0;31m       outputs = execute.execute(\n\u001b[0m\u001b[1;32m   1689\u001b[0m           \u001b[0mname\u001b[0m\u001b[0;34m.\u001b[0m\u001b[0mdecode\u001b[0m\u001b[0;34m(\u001b[0m\u001b[0;34m\"utf-8\"\u001b[0m\u001b[0;34m)\u001b[0m\u001b[0;34m,\u001b[0m\u001b[0;34m\u001b[0m\u001b[0;34m\u001b[0m\u001b[0m\n\u001b[1;32m   1690\u001b[0m           \u001b[0mnum_outputs\u001b[0m\u001b[0;34m=\u001b[0m\u001b[0mnum_outputs\u001b[0m\u001b[0;34m,\u001b[0m\u001b[0;34m\u001b[0m\u001b[0;34m\u001b[0m\u001b[0m\n",
            "\u001b[0;32m/usr/local/lib/python3.12/dist-packages/tensorflow/python/eager/execute.py\u001b[0m in \u001b[0;36mquick_execute\u001b[0;34m(op_name, num_outputs, inputs, attrs, ctx, name)\u001b[0m\n\u001b[1;32m     51\u001b[0m   \u001b[0;32mtry\u001b[0m\u001b[0;34m:\u001b[0m\u001b[0;34m\u001b[0m\u001b[0;34m\u001b[0m\u001b[0m\n\u001b[1;32m     52\u001b[0m     \u001b[0mctx\u001b[0m\u001b[0;34m.\u001b[0m\u001b[0mensure_initialized\u001b[0m\u001b[0;34m(\u001b[0m\u001b[0;34m)\u001b[0m\u001b[0;34m\u001b[0m\u001b[0;34m\u001b[0m\u001b[0m\n\u001b[0;32m---> 53\u001b[0;31m     tensors = pywrap_tfe.TFE_Py_Execute(ctx._handle, device_name, op_name,\n\u001b[0m\u001b[1;32m     54\u001b[0m                                         inputs, attrs, num_outputs)\n\u001b[1;32m     55\u001b[0m   \u001b[0;32mexcept\u001b[0m \u001b[0mcore\u001b[0m\u001b[0;34m.\u001b[0m\u001b[0m_NotOkStatusException\u001b[0m \u001b[0;32mas\u001b[0m \u001b[0me\u001b[0m\u001b[0;34m:\u001b[0m\u001b[0;34m\u001b[0m\u001b[0;34m\u001b[0m\u001b[0m\n",
            "\u001b[0;31mKeyboardInterrupt\u001b[0m: "
          ]
        }
      ]
    },
    {
      "cell_type": "code",
      "source": [
        "# Obtener un modelo específico\n",
        "best_model_lstm_longonly = results_longonly.get_model_by_id(\"LSTM_comb4\")\n",
        "best_model_gru_longonly = results_longonly.get_model_by_id(\"GRU_comb4\")\n",
        "best_model_cnn_lstm_longonly = results_longonly.get_model_by_id(\"LSTM_CNN_comb5\")\n",
        "best_model_cnn_gru_longonly = results_longonly.get_model_by_id(\"GRU_CNN_comb5\")"
      ],
      "metadata": {
        "id": "jJ3Wbf-P0gSm"
      },
      "id": "jJ3Wbf-P0gSm",
      "execution_count": null,
      "outputs": []
    },
    {
      "cell_type": "code",
      "source": [
        "# Diccionario de modelos ya seleccionados\n",
        "models_dict = {\n",
        "    \"LSTM\": best_model_lstm_longonly,\n",
        "    \"GRU\": best_model_gru_longonly,\n",
        "    \"LSTM_CNN\": best_model_cnn_lstm_longonly,\n",
        "    \"GRU_CNN\": best_model_cnn_gru_longonly\n",
        "}\n",
        "\n",
        "# Evaluar con Purged Walk-Forward SOLO en longonly\n",
        "results_df = pipeline_evaluate_models(df, models_dict, strategy=\"longonly\")\n",
        "\n",
        "# Resumen por modelo\n",
        "summary = results_df.groupby(\"model\").mean().reset_index()\n",
        "print(summary[[\"model\", \"accuracy\", \"f1\", \"sharpe\", \"cum_return\"]])\n",
        "\n",
        "# Boxplot comparativo\n",
        "plot_model_comparison(results_df, metric=\"sharpe\", strategy=\"longonly\")"
      ],
      "metadata": {
        "id": "dQL0ym7e6srb"
      },
      "id": "dQL0ym7e6srb",
      "execution_count": null,
      "outputs": []
    },
    {
      "cell_type": "markdown",
      "source": [
        "### Estrategia LONGSHORT\n",
        "- Qué hace: Puede tomar ambas posiciones, largas y cortas.\n",
        "- Objetivo: Aprovechar tanto subidas como bajadas.\n",
        "- Ejemplo: Compras BTC y vendes ETH si crees que BTC va a subir y ETH a bajar.\n",
        "- Ventaja: Más flexible, puede generar ganancias en cualquier dirección del mercado.\n",
        "- Limitación: Más compleja, requiere buena gestión de riesgo."
      ],
      "metadata": {
        "id": "Pqy1gnuNMNPm"
      },
      "id": "Pqy1gnuNMNPm"
    },
    {
      "cell_type": "code",
      "source": [
        "# Ejecutar la búsqueda - longshort\n",
        "results_longshort = run_pipeline_random_search(\n",
        "    df_bitcoin,\n",
        "    target_col=\"Target\",\n",
        "    return_col=\"Return\",\n",
        "    window_size=30,\n",
        "    horizon=1,\n",
        "    test_size=0.2,\n",
        "    strategy=\"longshort\",   # longonly | shortonly | longshort\n",
        "    scoring=\"sharpe\",      # sharpe | accuracy | f1 | ...\n",
        "    n_iter=5               # número de combinaciones a probar\n",
        ")"
      ],
      "metadata": {
        "id": "HLNUgOt7MRvP"
      },
      "id": "HLNUgOt7MRvP",
      "execution_count": null,
      "outputs": []
    },
    {
      "cell_type": "code",
      "source": [
        "# Obtener un modelo específico\n",
        "best_model_lstm_longshort = results_longshort.get_model_by_id(\"LSTM_comb5\")\n",
        "best_model_gru_longshort = results_longshort.get_model_by_id(\"GRU_comb5\")\n",
        "best_model_cnn_lstm_longshort = results_longshort.get_model_by_id(\"LSTM_CNN_comb3\")\n",
        "best_model_cnn_gru_longshort = results_longshort.get_model_by_id(\"GRU_CNN_comb5\")"
      ],
      "metadata": {
        "id": "YBHEwhwRMU6V"
      },
      "id": "YBHEwhwRMU6V",
      "execution_count": null,
      "outputs": []
    },
    {
      "cell_type": "code",
      "source": [
        "# Lista de modelos ya entrenados\n",
        "selected_models = [\n",
        "    {\"name\": \"LSTM_final\", \"model\": lstm_model},\n",
        "    {\"name\": \"GRU_final\", \"model\": gru_model},\n",
        "    {\"name\": \"LSTM_CNN_final\", \"model\": lstm_cnn_model},\n",
        "    {\"name\": \"GRU_CNN_final\", \"model\": gru_cnn_model},\n",
        "]\n"
      ],
      "metadata": {
        "id": "JAmukb9k3_iv"
      },
      "id": "JAmukb9k3_iv",
      "execution_count": null,
      "outputs": []
    }
  ],
  "metadata": {
    "colab": {
      "provenance": [],
      "gpuType": "T4",
      "include_colab_link": true
    },
    "language_info": {
      "name": "python"
    },
    "kernelspec": {
      "name": "python3",
      "display_name": "Python 3"
    },
    "accelerator": "GPU"
  },
  "nbformat": 4,
  "nbformat_minor": 5
}